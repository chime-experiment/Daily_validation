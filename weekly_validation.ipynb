{
 "cells": [
  {
   "cell_type": "code",
   "execution_count": null,
   "id": "f6db2620",
   "metadata": {},
   "outputs": [],
   "source": [
    "%matplotlib inline\n",
    "%config InlineBackend.figure_format = 'jpg'\n",
    "\n",
    "import matplotlib.pyplot as plt\n",
    "\n",
    "plt.rcParams.update({'font.size': 22})\n",
    "\n",
    "from IPython.display import Markdown\n",
    "import helper_funcs as hf"
   ]
  },
  {
   "cell_type": "code",
   "execution_count": null,
   "id": "5f699e42",
   "metadata": {
    "tags": [
     "parameters"
    ]
   },
   "outputs": [],
   "source": [
    "# pipeline revision to view\n",
    "rev_id = 7\n",
    "\n",
    "# Number of days to show\n",
    "num_days = 14\n",
    "\n",
    "# Set the start CSD. This can be an integer or a string \"yyyy/mm/dd\".\n",
    "# If `None`, the most recent days will be displayed\n",
    "CSD = None\n",
    "lag = 2\n",
    "\n",
    "# Method to view the plots. Options are `list` or `grid`\n",
    "view = \"grid\"\n",
    "\n",
    "# Order in which to view days\n",
    "reverse = True\n",
    "\n",
    "# This sets the CSD \n",
    "csd_start = hf.get_csd(CSD, num_days, lag)"
   ]
  },
  {
   "cell_type": "code",
   "execution_count": null,
   "id": "d1723696",
   "metadata": {},
   "outputs": [],
   "source": [
    "Markdown(f\"# Delay Spectra for CSD {csd_start}-{csd_start + num_days - 1} ({num_days} days, rev_{rev_id:02d})\")"
   ]
  },
  {
   "cell_type": "code",
   "execution_count": null,
   "id": "75f7de3a",
   "metadata": {
    "scrolled": false
   },
   "outputs": [],
   "source": [
    "hf.plotMultipleDS(rev_id, csd_start, num_days, reverse=reverse, view=view)"
   ]
  }
 ],
 "metadata": {
  "kernelspec": {
   "display_name": "chimedev10",
   "language": "python",
   "name": "chimedev10"
  },
  "language_info": {
   "codemirror_mode": {
    "name": "ipython",
    "version": 3
   },
   "file_extension": ".py",
   "mimetype": "text/x-python",
   "name": "python",
   "nbconvert_exporter": "python",
   "pygments_lexer": "ipython3",
   "version": "3.10.2"
  }
 },
 "nbformat": 4,
 "nbformat_minor": 5
}
