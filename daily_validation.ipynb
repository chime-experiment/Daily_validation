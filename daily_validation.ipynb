{
 "cells": [
  {
   "cell_type": "markdown",
   "metadata": {},
   "source": [
    "This is daily validation notebook. The purpose of this notebook is to render the key plots to check the quality of daily data. To keep this notebook clean, the necessary routines and function are kept in a separate file **helper_funcs.py** which should be in the same directory as this notebook.\n",
    "\n",
    "### Functions\n",
    "**plotDS** plots the delay spectrum for a given LSD.<br>\n",
    "**plotRingmap** plots the ringmap.<br>\n",
    "**plotSens** plots the sensitivity.<br>\n",
    "    \n",
    "    Parameters\n",
    "    ----------\n",
    "    rev : int\n",
    "          Revision number\n",
    "    LSD : int\n",
    "          Day number\n",
    "    hpf : bool, optional (default False)\n",
    "          with/without high pass filter (True/False)\n",
    "    vmin, vmax : min, max values in the colorscale, optional \n",
    "    cmap : colormap, optional (default 'inferno')\n",
    "    \n",
    "   "
   ]
  },
  {
   "cell_type": "code",
   "execution_count": null,
   "metadata": {},
   "outputs": [],
   "source": [
    "import numpy as np\n",
    "import matplotlib\n",
    "import matplotlib.pyplot as plt\n",
    "from mpl_toolkits.axes_grid1 import make_axes_locatable\n",
    "from helper_funcs import *\n",
    "\n",
    "plt.rcParams.update({'font.size': 22})"
   ]
  },
  {
   "cell_type": "code",
   "execution_count": null,
   "metadata": {},
   "outputs": [],
   "source": [
    "rev_id = 6     # revision id\n",
    "LSD = 1919     # LSD\n",
    "\n",
    "plotDS(rev=rev_id, LSD=LSD)\n",
    "plotDS(rev=rev_id, LSD=LSD, hpf=True)\n",
    "plotRingmap(rev=rev_id, LSD=LSD, flag_mask = True)\n",
    "plotSens(rev=rev_id, LSD=LSD)\n"
   ]
  },
  {
   "cell_type": "markdown",
   "metadata": {},
   "source": [
    "## plot Multiple LSDs"
   ]
  },
  {
   "cell_type": "code",
   "execution_count": null,
   "metadata": {},
   "outputs": [],
   "source": [
    "rev_id = 6\n",
    "LSD_list = [1919, 1921, 1926]\n",
    "\n",
    "for LSD in LSD_list:\n",
    "    plotRingmap(rev=rev_id, LSD=LSD, flag_mask = True)"
   ]
  },
  {
   "cell_type": "code",
   "execution_count": null,
   "metadata": {},
   "outputs": [],
   "source": []
  }
 ],
 "metadata": {
  "kernelspec": {
   "display_name": "Python 3 (ipykernel)",
   "language": "python",
   "name": "python3"
  },
  "language_info": {
   "codemirror_mode": {
    "name": "ipython",
    "version": 3
   },
   "file_extension": ".py",
   "mimetype": "text/x-python",
   "name": "python",
   "nbconvert_exporter": "python",
   "pygments_lexer": "ipython3",
   "version": "3.9.7"
  }
 },
 "nbformat": 4,
 "nbformat_minor": 4
}
