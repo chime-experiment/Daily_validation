{
 "cells": [
  {
   "cell_type": "code",
   "execution_count": null,
   "metadata": {},
   "outputs": [],
   "source": [
    "%matplotlib inline\n",
    "%config InlineBackend.figure_format = 'jpg'\n",
    "\n",
    "import matplotlib.pyplot as plt\n",
    "import helper_funcs as hf\n",
    "from IPython.display import Markdown\n",
    "\n",
    "plt.rcParams.update({'font.size': 22})"
   ]
  },
  {
   "cell_type": "code",
   "execution_count": null,
   "metadata": {
    "tags": [
     "parameters"
    ]
   },
   "outputs": [],
   "source": [
    "# provide rev id and LSD\n",
    "rev_id = 6\n",
    "LSD = 1919"
   ]
  },
  {
   "cell_type": "code",
   "execution_count": null,
   "metadata": {},
   "outputs": [],
   "source": [
    "Markdown(f\"# Validation for {LSD} (rev_{rev_id:02d})\")"
   ]
  },
  {
   "attachments": {},
   "cell_type": "markdown",
   "metadata": {},
   "source": [
    "## Delay Spectrum "
   ]
  },
  {
   "cell_type": "code",
   "execution_count": null,
   "metadata": {},
   "outputs": [],
   "source": [
    "hf.plotDS(rev=rev_id, LSD=LSD, clim=[1e-3, 1e2])\n",
    "hf.plotDS(rev=rev_id, LSD=LSD, clim=[1e-3, 1e-2])"
   ]
  },
  {
   "attachments": {},
   "cell_type": "markdown",
   "metadata": {},
   "source": [
    "## Delay Spectrum with high pass filter"
   ]
  },
  {
   "cell_type": "code",
   "execution_count": null,
   "metadata": {},
   "outputs": [],
   "source": [
    "hf.plotDS(rev=rev_id, LSD=LSD, clim=[1e-3, 1e2], hpf=True)\n",
    "hf.plotDS(rev=rev_id, LSD=LSD, clim = [1e-3, 1e-2], hpf=True)"
   ]
  },
  {
   "attachments": {},
   "cell_type": "markdown",
   "metadata": {},
   "source": [
    "## Ringmap"
   ]
  },
  {
   "cell_type": "code",
   "execution_count": null,
   "metadata": {
    "scrolled": false
   },
   "outputs": [],
   "source": [
    "fi_list = [325, 950]\n",
    "scal = [(-5, 20), (-10, 40)]\n",
    "\n",
    "for fi, (vl, vh) in zip(fi_list, scal):\n",
    "    hf.plotRingmap(rev=rev_id, LSD=LSD, fi=fi, flag_mask=True, vmin=vl, vmax=vh)"
   ]
  },
  {
   "attachments": {},
   "cell_type": "markdown",
   "metadata": {},
   "source": [
    "## Sensitivity"
   ]
  },
  {
   "cell_type": "code",
   "execution_count": null,
   "metadata": {},
   "outputs": [],
   "source": [
    "hf.plotSens(rev=rev_id, LSD=LSD)"
   ]
  },
  {
   "attachments": {},
   "cell_type": "markdown",
   "metadata": {},
   "source": [
    "## Template subtracted ringmap"
   ]
  },
  {
   "cell_type": "code",
   "execution_count": null,
   "metadata": {},
   "outputs": [],
   "source": [
    "hf.plotRM_tempSub(rev=rev_id, LSD=LSD, fi=325, template_rev=3)"
   ]
  },
  {
   "attachments": {},
   "cell_type": "markdown",
   "metadata": {},
   "source": [
    "# Extra Plots\n",
    "\n",
    "These are not to be used for validation, just for debugging bad days and for developing them further.\n",
    "\n",
    "## Point source stability"
   ]
  },
  {
   "cell_type": "code",
   "execution_count": null,
   "metadata": {},
   "outputs": [],
   "source": [
    "hf.plot_stability(\n",
    "    rev_id,\n",
    "    LSD,\n",
    "    norm_sigma=False,\n",
    "    max_val=None,\n",
    "    flag_daytime=True,\n",
    "    flag_bad_data=True,\n",
    "    template_rev=6,\n",
    ")\n"
   ]
  },
  {
   "cell_type": "markdown",
   "metadata": {},
   "source": [
    "## Extra Ringmaps"
   ]
  },
  {
   "cell_type": "code",
   "execution_count": null,
   "metadata": {},
   "outputs": [],
   "source": [
    "fi_list = [65, 470, 730]\n",
    "\n",
    "for fi in fi_list:\n",
    "    hf.plotRingmap(rev=rev_id, LSD=LSD, fi = fi, flag_mask = True)"
   ]
  },
  {
   "cell_type": "code",
   "execution_count": null,
   "metadata": {},
   "outputs": [],
   "source": []
  }
 ],
 "metadata": {
  "kernelspec": {
   "display_name": "CHIME",
   "language": "python",
   "name": "chime"
  },
  "language_info": {
   "codemirror_mode": {
    "name": "ipython",
    "version": 3
   },
   "file_extension": ".py",
   "mimetype": "text/x-python",
   "name": "python",
   "nbconvert_exporter": "python",
   "pygments_lexer": "ipython3",
   "version": "3.10.2"
  }
 },
 "nbformat": 4,
 "nbformat_minor": 4
}
