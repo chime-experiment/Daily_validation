{
 "cells": [
  {
   "cell_type": "markdown",
   "metadata": {},
   "source": [
    "This is daily validation notebook. The purpose of this notebook is to render the key plots to check the quality of daily data. To keep this notebook clean, the necessary routines and function are kept in a separate file **helper_funcs.py** which should be in the same directory as this notebook.\n",
    "\n",
    "### Functions\n",
    "**plotDS** plots the delay spectrum for a given LSD.<br>\n",
    "**plotRingmap** plots the ringmap.<br>\n",
    "**plotSens** plots the sensitivity.<br>\n",
    "**plotRM_tempSub** plots the template subtracted ringmap.<br>\n",
    "    \n",
    "    Parameters\n",
    "    ----------\n",
    "    rev : int\n",
    "          Revision number\n",
    "    LSD : int\n",
    "          Day number\n",
    "    hpf : bool, optional (default False)\n",
    "          with/without high pass filter (True/False)\n",
    "    vmin, vmax : min, max values in the colorscale, optional \n",
    "    cmap : colormap, optional (default 'inferno')\n",
    "    fi  : frequency index\n",
    "    \n",
    "   "
   ]
  },
  {
   "cell_type": "code",
   "execution_count": null,
   "metadata": {},
   "outputs": [],
   "source": [
    "import numpy as np\n",
    "import matplotlib\n",
    "import matplotlib.pyplot as plt\n",
    "from helper_funcs import *\n",
    "plt.rcParams.update({'font.size': 22})"
   ]
  },
  {
   "cell_type": "code",
   "execution_count": null,
   "metadata": {},
   "outputs": [],
   "source": [
    "# provide rev id and LSD\n",
    "rev_id = 6\n",
    "LSD = 1919"
   ]
  },
  {
   "cell_type": "markdown",
   "metadata": {},
   "source": [
    "# Delay Spectrum "
   ]
  },
  {
   "cell_type": "code",
   "execution_count": null,
   "metadata": {},
   "outputs": [],
   "source": [
    "plotDS(rev=rev_id, LSD=LSD, clim=[1e-3, 1e2])\n",
    "plotDS(rev=rev_id, LSD=LSD, clim=[1e-3, 1e-2])"
   ]
  },
  {
   "cell_type": "markdown",
   "metadata": {},
   "source": [
    "# Delay Spectrum with high pass filter"
   ]
  },
  {
   "cell_type": "code",
   "execution_count": null,
   "metadata": {},
   "outputs": [],
   "source": [
    "plotDS(rev=rev_id, LSD=LSD, clim=[1e-3, 1e2], hpf=True)\n",
    "plotDS(rev=rev_id, LSD=LSD, clim = [1e-3, 1e-2], hpf=True)"
   ]
  },
  {
   "cell_type": "markdown",
   "metadata": {},
   "source": [
    "# Ringmap"
   ]
  },
  {
   "cell_type": "code",
   "execution_count": null,
   "metadata": {
    "scrolled": false
   },
   "outputs": [],
   "source": [
    "fi_list = [100, 300, 500, 700, 900]\n",
    "\n",
    "for fi in fi_list:\n",
    "    plotRingmap(rev=rev_id, LSD=LSD, fi = fi, flag_mask = True)"
   ]
  },
  {
   "cell_type": "markdown",
   "metadata": {},
   "source": [
    "# Sensitivity"
   ]
  },
  {
   "cell_type": "code",
   "execution_count": null,
   "metadata": {},
   "outputs": [],
   "source": [
    "plotSens(rev=rev_id, LSD=LSD)"
   ]
  },
  {
   "cell_type": "markdown",
   "metadata": {},
   "source": [
    "# Template subtracted ringmap"
   ]
  },
  {
   "cell_type": "code",
   "execution_count": null,
   "metadata": {},
   "outputs": [],
   "source": [
    "plotRM_tempSub(rev=rev_id, LSD=LSD, fi = 400)"
   ]
  },
  {
   "cell_type": "markdown",
   "metadata": {},
   "source": [
    "# Point source stability"
   ]
  },
  {
   "cell_type": "code",
   "execution_count": null,
   "metadata": {},
   "outputs": [],
   "source": [
    "plot_stability(rev_id, LSD, norm_sigma=False, max_val=None, flag_daytime=True, flag_bad_data=True)"
   ]
  }
 ],
 "metadata": {
  "kernelspec": {
   "display_name": "CHIME",
   "language": "python",
   "name": "chime"
  },
  "language_info": {
   "codemirror_mode": {
    "name": "ipython",
    "version": 3
   },
   "file_extension": ".py",
   "mimetype": "text/x-python",
   "name": "python",
   "nbconvert_exporter": "python",
   "pygments_lexer": "ipython3",
   "version": "3.10.2"
  }
 },
 "nbformat": 4,
 "nbformat_minor": 4
}
